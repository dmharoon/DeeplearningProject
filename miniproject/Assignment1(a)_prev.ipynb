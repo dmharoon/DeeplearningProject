{
 "cells": [
  {
   "cell_type": "code",
   "execution_count": 58,
   "metadata": {
    "collapsed": true
   },
   "outputs": [],
   "source": [
    "import numpy as np\n",
    "import matplotlib.pyplot as plt\n",
    "from PIL import Image\n",
    "import caffe"
   ]
  },
  {
   "cell_type": "code",
   "execution_count": 59,
   "metadata": {
    "collapsed": true
   },
   "outputs": [],
   "source": [
    "caffe.set_device(0)\n",
    "caffe.set_mode_gpu()\n",
    "\n"
   ]
  },
  {
   "cell_type": "code",
   "execution_count": 60,
   "metadata": {
    "collapsed": false
   },
   "outputs": [],
   "source": [
    "net = caffe.Net('../models/bvlc_alexnet/1_deploy.prototxt',\n",
    "                '../models/bvlc_alexnet/bvlc_alexnet.caffemodel',\n",
    "                caffe.TEST)"
   ]
  },
  {
   "cell_type": "code",
   "execution_count": 61,
   "metadata": {
    "collapsed": false,
    "scrolled": true
   },
   "outputs": [],
   "source": [
    "transformer = caffe.io.Transformer({'data': net.blobs['data'].data.shape})\n",
    "transformer.set_mean('data', np.load('caffe/imagenet/ilsvrc_2012_mean.npy').mean(1).mean(1))\n",
    "transformer.set_transpose('data', (2,0,1))\n",
    "transformer.set_channel_swap('data', (2,1,0))\n",
    "transformer.set_raw_scale('data', 255.0)"
   ]
  },
  {
   "cell_type": "code",
   "execution_count": 62,
   "metadata": {
    "collapsed": false
   },
   "outputs": [],
   "source": [
    "net.blobs['data'].reshape(1,3,227,227)\n"
   ]
  },
  {
   "cell_type": "code",
   "execution_count": 68,
   "metadata": {
    "collapsed": false
   },
   "outputs": [
    {
     "name": "stdout",
     "output_type": "stream",
     "text": [
      "671\n",
      "['n03792782 mountain bike, all-terrain bike, off-roader'\n",
      " 'n04482393 tricycle, trike, velocipede' 'n03208938 disk brake, disc brake']\n",
      "870\n",
      "['n04482393 tricycle, trike, velocipede'\n",
      " 'n03792782 mountain bike, all-terrain bike, off-roader' 'n03785016 moped']\n",
      "870\n",
      "['n04482393 tricycle, trike, velocipede'\n",
      " 'n03792782 mountain bike, all-terrain bike, off-roader'\n",
      " 'n03208938 disk brake, disc brake']\n",
      "870\n",
      "['n04482393 tricycle, trike, velocipede'\n",
      " 'n03792782 mountain bike, all-terrain bike, off-roader'\n",
      " 'n02835271 bicycle-built-for-two, tandem bicycle, tandem']\n",
      "870\n",
      "['n04482393 tricycle, trike, velocipede'\n",
      " 'n02835271 bicycle-built-for-two, tandem bicycle, tandem'\n",
      " 'n03792782 mountain bike, all-terrain bike, off-roader']\n",
      "870\n",
      "['n04482393 tricycle, trike, velocipede' 'n03208938 disk brake, disc brake'\n",
      " 'n03792782 mountain bike, all-terrain bike, off-roader']\n",
      "671\n",
      "['n03792782 mountain bike, all-terrain bike, off-roader'\n",
      " 'n04482393 tricycle, trike, velocipede' 'n03785016 moped']\n",
      "444\n",
      "['n02835271 bicycle-built-for-two, tandem bicycle, tandem'\n",
      " 'n04482393 tricycle, trike, velocipede'\n",
      " 'n03792782 mountain bike, all-terrain bike, off-roader']\n",
      "671\n",
      "['n03792782 mountain bike, all-terrain bike, off-roader'\n",
      " 'n03706229 magnetic compass' 'n04482393 tricycle, trike, velocipede']\n",
      "870\n",
      "['n04482393 tricycle, trike, velocipede' 'n03785016 moped'\n",
      " 'n02835271 bicycle-built-for-two, tandem bicycle, tandem']\n",
      "444\n",
      "['n02835271 bicycle-built-for-two, tandem bicycle, tandem'\n",
      " 'n04482393 tricycle, trike, velocipede'\n",
      " 'n03792782 mountain bike, all-terrain bike, off-roader']\n",
      "870\n",
      "['n04482393 tricycle, trike, velocipede' 'n03208938 disk brake, disc brake'\n",
      " 'n03792782 mountain bike, all-terrain bike, off-roader']\n",
      "870\n",
      "['n04482393 tricycle, trike, velocipede'\n",
      " 'n03792782 mountain bike, all-terrain bike, off-roader' 'n03785016 moped']\n",
      "870\n",
      "['n04482393 tricycle, trike, velocipede'\n",
      " 'n02835271 bicycle-built-for-two, tandem bicycle, tandem'\n",
      " 'n03840681 ocarina, sweet potato']\n",
      "671\n",
      "['n03792782 mountain bike, all-terrain bike, off-roader'\n",
      " 'n03208938 disk brake, disc brake' 'n04482393 tricycle, trike, velocipede']\n",
      "870\n",
      "['n04482393 tricycle, trike, velocipede'\n",
      " 'n03792782 mountain bike, all-terrain bike, off-roader'\n",
      " 'n02835271 bicycle-built-for-two, tandem bicycle, tandem']\n",
      "870\n",
      "['n04482393 tricycle, trike, velocipede' 'n04317175 stethoscope'\n",
      " 'n03208938 disk brake, disc brake']\n",
      "100.0\n"
     ]
    }
   ],
   "source": [
    "accuracy = 0\n",
    "n=17\n",
    "#class_set_car = set([817,656,609,656,436,511])\n",
    "class_set_bicycle = set([870,671,444])\n",
    "#class_set_airline = set([404])\n",
    "for i in xrange(n):\n",
    "    name = \"../examples/images/bicycle/\"\n",
    "    im = caffe.io.load_image(name+str(i)+'.jpg')\n",
    "    net.blobs['data'].data[...] = transformer.preprocess('data', im)\n",
    "    out = net.forward()\n",
    "    print type(out)\n",
    "    cls = out['fc7'].argmax()\n",
    "    print cls\n",
    "    labels = np.loadtxt(\"../data/ilsvrc12/synset_words.txt\", str, delimiter='\\t')\n",
    "    top_k = net.blobs['prob'].data[0].flatten().argsort()[-1:-4:-1]\n",
    "    print labels[top_k]\n",
    "    \n",
    "    if cls in class_set_bicycle:\n",
    "        accuracy+=1\n",
    "print float(accuracy)/n * 100\n",
    "        "
   ]
  },
  {
   "cell_type": "code",
   "execution_count": null,
   "metadata": {
    "collapsed": true
   },
   "outputs": [],
   "source": []
  },
  {
   "cell_type": "code",
   "execution_count": null,
   "metadata": {
    "collapsed": true
   },
   "outputs": [],
   "source": []
  },
  {
   "cell_type": "code",
   "execution_count": null,
   "metadata": {
    "collapsed": false
   },
   "outputs": [],
   "source": []
  },
  {
   "cell_type": "code",
   "execution_count": 16,
   "metadata": {
    "collapsed": false,
    "scrolled": true
   },
   "outputs": [
    {
     "name": "stdout",
     "output_type": "stream",
     "text": [
      "['n02690373 airliner' 'n04376876 syringe' 'n04592741 wing'\n",
      " 'n04552348 warplane, military plane' 'n03773504 missile']\n"
     ]
    }
   ],
   "source": []
  },
  {
   "cell_type": "code",
   "execution_count": null,
   "metadata": {
    "collapsed": true
   },
   "outputs": [],
   "source": []
  },
  {
   "cell_type": "code",
   "execution_count": null,
   "metadata": {
    "collapsed": true
   },
   "outputs": [],
   "source": []
  }
 ],
 "metadata": {
  "kernelspec": {
   "display_name": "Python 2",
   "language": "python",
   "name": "python2"
  },
  "language_info": {
   "codemirror_mode": {
    "name": "ipython",
    "version": 2
   },
   "file_extension": ".py",
   "mimetype": "text/x-python",
   "name": "python",
   "nbconvert_exporter": "python",
   "pygments_lexer": "ipython2",
   "version": "2.7.9"
  }
 },
 "nbformat": 4,
 "nbformat_minor": 1
}

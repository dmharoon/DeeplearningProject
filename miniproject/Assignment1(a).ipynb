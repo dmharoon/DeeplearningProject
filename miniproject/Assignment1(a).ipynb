{
 "cells": [
  {
   "cell_type": "code",
   "execution_count": 16,
   "metadata": {
    "collapsed": false
   },
   "outputs": [],
   "source": [
    "import numpy as np\n",
    "import matplotlib.pyplot as plt\n",
    "from PIL import Image\n",
    "import caffe\n",
    "from sklearn.svm import SVC\n",
    "from sklearn.linear_model import LogisticRegression"
   ]
  },
  {
   "cell_type": "code",
   "execution_count": 17,
   "metadata": {
    "collapsed": true
   },
   "outputs": [],
   "source": [
    "caffe.set_device(0)\n",
    "caffe.set_mode_gpu()\n",
    "\n"
   ]
  },
  {
   "cell_type": "code",
   "execution_count": 18,
   "metadata": {
    "collapsed": false
   },
   "outputs": [],
   "source": [
    "net = caffe.Net('../models/bvlc_alexnet/1_deploy.prototxt',\n",
    "                '../models/bvlc_alexnet/bvlc_alexnet.caffemodel',\n",
    "                caffe.TEST)"
   ]
  },
  {
   "cell_type": "code",
   "execution_count": 19,
   "metadata": {
    "collapsed": false,
    "scrolled": true
   },
   "outputs": [],
   "source": [
    "transformer = caffe.io.Transformer({'data': net.blobs['data'].data.shape})\n",
    "transformer.set_mean('data', np.load('caffe/imagenet/ilsvrc_2012_mean.npy').mean(1).mean(1))\n",
    "transformer.set_transpose('data', (2,0,1))\n",
    "transformer.set_channel_swap('data', (2,1,0))\n",
    "transformer.set_raw_scale('data', 255.0)"
   ]
  },
  {
   "cell_type": "code",
   "execution_count": 20,
   "metadata": {
    "collapsed": false
   },
   "outputs": [],
   "source": [
    "net.blobs['data'].reshape(1,3,227,227)\n"
   ]
  },
  {
   "cell_type": "code",
   "execution_count": 21,
   "metadata": {
    "collapsed": false
   },
   "outputs": [],
   "source": [
    "accuracy = 0\n",
    "n=180\n",
    "features=[]\n",
    "labels=[]\n",
    "#class_set_car = set([817,656,609,656,436,511])\n",
    "class_set_bicycle = set([870,671,444])\n",
    "#class_set_airline = set([404])\n",
    "for i in xrange(1,141):\n",
    "    name = \"../examples/images/Train_svm/\"\n",
    "    im = caffe.io.load_image(name+str(i)+'.jpg')\n",
    "    net.blobs['data'].data[...] = transformer.preprocess('data', im)\n",
    "    out = net.forward()\n",
    "    cls = out['fc7']\n",
    "    #print len(cls[0])\n",
    "    #labels = np.loadtxt(\"../data/ilsvrc12/synset_words.txt\", str, delimiter='\\t')\n",
    "    #top_k = net.blobs['prob'].data[0].flatten().argsort()[-1:-4:-1]\n",
    "    #print labels[top_k]\n",
    "    \n",
    "    #if cls in class_set_bicycle:\n",
    "    #    accuracy+=1\n",
    "#print float(accuracy)/n * 100\n",
    "    #rint out['fc7'][0]\n",
    "    lst_feature = list(out['fc7'][0])\n",
    "    #print lst\n",
    "    features.append(lst_feature)\n",
    "    #print (out['fc7'][0].shape)\n",
    "    #print features\n",
    "    if i<=80:\n",
    "        labels.append(1)\n",
    "    else:\n",
    "        labels.append(2)\n",
    "\n",
    "#print len(features)\n",
    "#print labels"
   ]
  },
  {
   "cell_type": "code",
   "execution_count": 25,
   "metadata": {
    "collapsed": false
   },
   "outputs": [
    {
     "data": {
      "text/plain": [
       "LogisticRegression(C=1.0, class_weight=None, dual=False, fit_intercept=True,\n",
       "          intercept_scaling=1, max_iter=100, multi_class='ovr', n_jobs=1,\n",
       "          penalty='l2', random_state=None, solver='liblinear', tol=0.0001,\n",
       "          verbose=0, warm_start=False)"
      ]
     },
     "execution_count": 25,
     "metadata": {},
     "output_type": "execute_result"
    }
   ],
   "source": [
    "model=LogisticRegression()\n",
    "model.fit(features,labels)"
   ]
  },
  {
   "cell_type": "code",
   "execution_count": 26,
   "metadata": {
    "collapsed": false
   },
   "outputs": [],
   "source": [
    "test_features=[]\n",
    "test_labels=[]\n",
    "for i in xrange(1,26):\n",
    "    name = \"../examples/images/Test_svm/\"\n",
    "    im = caffe.io.load_image(name+str(i)+'.jpg')\n",
    "    net.blobs['data'].data[...] = transformer.preprocess('data', im)\n",
    "    out = net.forward()\n",
    "    cls = out['fc7']\n",
    "    lst_feature = list(out['fc7'][0])\n",
    "    test_features.append(lst_feature)\n",
    "    if i<=10:\n",
    "        test_labels.append(1)\n",
    "    else:\n",
    "        test_labels.append(2)\n",
    "\n",
    "result = model.predict(test_features)"
   ]
  },
  {
   "cell_type": "code",
   "execution_count": 27,
   "metadata": {
    "collapsed": false,
    "scrolled": true
   },
   "outputs": [
    {
     "name": "stdout",
     "output_type": "stream",
     "text": [
      "92.0\n"
     ]
    }
   ],
   "source": [
    "accuracy=0\n",
    "for i in zip(result,test_labels):\n",
    "    accuracy+= (i[0]==i[1])\n",
    "print float(accuracy)/len(result) * 100"
   ]
  },
  {
   "cell_type": "code",
   "execution_count": null,
   "metadata": {
    "collapsed": true
   },
   "outputs": [],
   "source": []
  },
  {
   "cell_type": "code",
   "execution_count": null,
   "metadata": {
    "collapsed": true
   },
   "outputs": [],
   "source": []
  }
 ],
 "metadata": {
  "kernelspec": {
   "display_name": "Python 2",
   "language": "python",
   "name": "python2"
  },
  "language_info": {
   "codemirror_mode": {
    "name": "ipython",
    "version": 2
   },
   "file_extension": ".py",
   "mimetype": "text/x-python",
   "name": "python",
   "nbconvert_exporter": "python",
   "pygments_lexer": "ipython2",
   "version": "2.7.9"
  }
 },
 "nbformat": 4,
 "nbformat_minor": 1
}
